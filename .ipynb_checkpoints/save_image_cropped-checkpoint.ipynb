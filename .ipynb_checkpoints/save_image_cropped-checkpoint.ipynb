{
 "cells": [
  {
   "cell_type": "code",
   "execution_count": 1,
   "id": "9945ddc1-a28b-4acb-bebe-a8c80454dd2e",
   "metadata": {},
   "outputs": [],
   "source": [
    "#images feuture extraction 2014\n",
    "import os\n",
    "import cv2\n",
    "import numpy as np\n",
    "import matplotlib.pyplot as plt\n",
    "from skimage import io, color, filters\n",
    "from skimage.feature import graycomatrix, graycoprops, local_binary_pattern\n",
    "from scipy.spatial.distance import pdist, squareform\n",
    "from tqdm.notebook import tqdm\n",
    "import glob\n",
    "from skimage.exposure import equalize_hist, match_histograms\n",
    "from PIL import Image"
   ]
  },
  {
   "cell_type": "code",
   "execution_count": 2,
   "id": "92450b66-82a4-40e3-9402-07a132fac695",
   "metadata": {},
   "outputs": [],
   "source": [
    "img_folder_path=r\"C:\\Users\\Paolo\\OneDrive\\Desktop\\Thesis\\Mycos_old_data (1)\\Mycos_old_data\\2014\\20140520\\nikon\""
   ]
  },
  {
   "cell_type": "code",
   "execution_count": 3,
   "id": "80639bce-eb4c-4357-9813-3a6684d0408c",
   "metadata": {},
   "outputs": [],
   "source": [
    "img_path_list = glob.glob(os.path.join(img_folder_path, '*.jpg'))\n",
    "img_crop_folder = r\"C:\\Users\\Paolo\\OneDrive\\Desktop\\Thesis\\Mycos_old_data (1)\\Mycos_old_data\\2014\\20140520\\crop_images\""
   ]
  },
  {
   "cell_type": "code",
   "execution_count": 4,
   "id": "4a9f7811-69b3-4111-9970-9244b1ff4f79",
   "metadata": {},
   "outputs": [],
   "source": [
    "#cut the background\n",
    "border_size = 280 \n",
    "border_top = 70\n",
    "border_bottom = 280\n",
    "border_left = 280\n",
    "border_right = 280\n",
    "\n",
    "# Get the dimensions of the image\n",
    "for img_path in img_path_list:\n",
    "    img = cv2.imread(img_path)\n",
    "    height, width, channels = img.shape\n",
    "    cropped_img = img[border_top:height-border_bottom, border_left:width-border_right]\n",
    "    output_path = os.path.join(img_crop_folder, \"cropped_\" + os.path.basename(img_path))\n",
    "    cv2.imwrite(output_path, cropped_img)    "
   ]
  },
  {
   "cell_type": "code",
   "execution_count": 5,
   "id": "389de1e9-edfb-46b0-987b-87dbcb49ae71",
   "metadata": {},
   "outputs": [],
   "source": [
    "img_path_list_crop = glob.glob(os.path.join(img_crop_folder, '*.jpg'))"
   ]
  },
  {
   "cell_type": "code",
   "execution_count": null,
   "id": "d0b51a11-c548-4ce7-801e-2d47cc7c9a86",
   "metadata": {},
   "outputs": [],
   "source": []
  }
 ],
 "metadata": {
  "kernelspec": {
   "display_name": "Python 3 (ipykernel)",
   "language": "python",
   "name": "python3"
  },
  "language_info": {
   "codemirror_mode": {
    "name": "ipython",
    "version": 3
   },
   "file_extension": ".py",
   "mimetype": "text/x-python",
   "name": "python",
   "nbconvert_exporter": "python",
   "pygments_lexer": "ipython3",
   "version": "3.12.7"
  }
 },
 "nbformat": 4,
 "nbformat_minor": 5
}
