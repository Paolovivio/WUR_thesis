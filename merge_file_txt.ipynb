{
 "cells": [
  {
   "cell_type": "code",
   "execution_count": 14,
   "id": "0819d7db-2eb8-4cf3-8f10-e6723de364a5",
   "metadata": {},
   "outputs": [],
   "source": [
    "import os\n",
    "import pandas as pd\n",
    "import re"
   ]
  },
  {
   "cell_type": "code",
   "execution_count": 26,
   "id": "6e21580c-7a5d-41f9-ae9a-1549781bc4df",
   "metadata": {},
   "outputs": [],
   "source": [
    "input_folder = r\"C:\\Users\\Paolo\\OneDrive\\Desktop\\Thesis\\Mycos_old_data (1)\\Mycos_old_data\\2014\\20140520\\width_extraction_ske_x_dis_SAM\"\n",
    "output_folder = R\"C:\\Users\\Paolo\\OneDrive\\Desktop\\Thesis\\Mycos_old_data (1)\\Mycos_old_data\\2014\\20140520\""
   ]
  },
  {
   "cell_type": "code",
   "execution_count": 27,
   "id": "fb90b245-5bd3-4e03-b855-e4aee6b3a543",
   "metadata": {},
   "outputs": [],
   "source": [
    "def merge_text_files(input_folder, output_folder):\n",
    "    # Ensure the output directory exists\n",
    "    os.makedirs(output_folder, exist_ok=True)\n",
    "\n",
    "    # Define output file path for CSV\n",
    "    output_file = os.path.join(output_folder, \"merged_widths_200_Ok.csv\")\n",
    "\n",
    "    # Dictionary to store file contents\n",
    "    file_contents = {}\n",
    "\n",
    "    # Helper function to extract the number from the filename like download(43)_widths.txt\n",
    "    def extract_number(filename):\n",
    "        match = re.search(r'\\((\\d+)\\)', filename)\n",
    "        return int(match.group(1)) if match else float('inf')  # Put non-matching files at the end\n",
    "\n",
    "    # Sort files based on extracted number\n",
    "    sorted_files = sorted(\n",
    "        [f for f in os.listdir(input_folder) if f.endswith(\".txt\")],\n",
    "        key=extract_number\n",
    "    )\n",
    "\n",
    "    for filename in sorted_files:\n",
    "        file_path = os.path.join(input_folder, filename)\n",
    "\n",
    "        if os.path.isfile(file_path):\n",
    "            with open(file_path, \"r\", encoding=\"utf-8\") as file:\n",
    "                lines = [line.strip() for line in file.readlines()]\n",
    "                file_contents[filename] = lines\n",
    "\n",
    "    # Find the maximum number of rows (longest file)\n",
    "    max_lines = max(len(lines) for lines in file_contents.values())\n",
    "\n",
    "    # Prepare the data\n",
    "    data = []\n",
    "    for i in range(max_lines):\n",
    "        row_data = []\n",
    "        for filename in file_contents:\n",
    "            row_data.append(file_contents[filename][i] if i < len(file_contents[filename]) else \"\")\n",
    "        data.append(row_data)\n",
    "\n",
    "    # Create DataFrame and write to CSV\n",
    "    df = pd.DataFrame(data, columns=file_contents.keys())\n",
    "    df.to_csv(output_file, index=False, encoding=\"utf-8\")\n",
    "\n",
    "    print(f\"Merged CSV file saved as {output_file}\")\n"
   ]
  },
  {
   "cell_type": "code",
   "execution_count": 28,
   "id": "5665e8e1-7d63-45fc-8b60-d037e0c4a3f5",
   "metadata": {},
   "outputs": [
    {
     "name": "stdout",
     "output_type": "stream",
     "text": [
      "Merged CSV file saved as C:\\Users\\Paolo\\OneDrive\\Desktop\\Thesis\\Mycos_old_data (1)\\Mycos_old_data\\2014\\20140520\\merged_widths_200_Ok.csv\n"
     ]
    }
   ],
   "source": [
    "# Call the function with specified folders\n",
    "merge_text_files(input_folder, output_folder)"
   ]
  },
  {
   "cell_type": "code",
   "execution_count": null,
   "id": "fa077829-f941-4ff5-b073-2d5cd4bb6fc3",
   "metadata": {},
   "outputs": [],
   "source": []
  }
 ],
 "metadata": {
  "kernelspec": {
   "display_name": "Python 3 (ipykernel)",
   "language": "python",
   "name": "python3"
  },
  "language_info": {
   "codemirror_mode": {
    "name": "ipython",
    "version": 3
   },
   "file_extension": ".py",
   "mimetype": "text/x-python",
   "name": "python",
   "nbconvert_exporter": "python",
   "pygments_lexer": "ipython3",
   "version": "3.12.7"
  }
 },
 "nbformat": 4,
 "nbformat_minor": 5
}
