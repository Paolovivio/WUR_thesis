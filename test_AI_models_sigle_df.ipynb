{
 "cells": [
  {
   "cell_type": "code",
   "execution_count": 1,
   "id": "6a13751d-1d5e-43c3-b5e2-fd50f2345b0a",
   "metadata": {},
   "outputs": [],
   "source": [
    "from sklearn.model_selection import StratifiedKFold, cross_val_score, cross_val_predict\n",
    "from sklearn.pipeline import make_pipeline\n",
    "from sklearn.preprocessing import StandardScaler, LabelEncoder\n",
    "from sklearn.discriminant_analysis import LinearDiscriminantAnalysis as LDA\n",
    "from sklearn.ensemble import RandomForestClassifier\n",
    "from sklearn.model_selection import cross_val_score, StratifiedKFold, GridSearchCV\n",
    "from sklearn.metrics import accuracy_score, confusion_matrix\n",
    "from scipy.stats import ttest_rel\n",
    "from sklearn.svm import SVC\n",
    "import xgboost as xgb\n",
    "import numpy as np\n",
    "import pandas as pd"
   ]
  },
  {
   "cell_type": "code",
   "execution_count": 10,
   "id": "cb76b282-bef6-4a4f-aacf-00cb90a88b9e",
   "metadata": {},
   "outputs": [],
   "source": [
    "# Step 1: Load and transpose\n",
    "# If your data is in an Excel file, you can use:\n",
    "# df = pd.read_excel('your_file.xlsx')\n",
    "df = pd.read_csv(r\"C:\\Users\\Paolo\\OneDrive\\Desktop\\Thesis\\Mycos_old_data (1)\\Mycos_old_data\\20250613_Cuc_Mycos_RGB\\ready_for_testing_2025.xlsx\")\n",
    "df_T = df.T  # Now rows = samples, columns = features\n",
    "df_T_clean = df_T.dropna(subset=[df_T.columns[-1]])"
   ]
  },
  {
   "cell_type": "code",
   "execution_count": 11,
   "id": "2fee6d48-d85e-4bb0-b3c7-59b269fcaddc",
   "metadata": {},
   "outputs": [],
   "source": [
    "# Assume the last column contains labels (adjust if needed)\n",
    "X = df_T_clean.iloc[:, :-1].values  # All features\n",
    "y = df_T_clean.iloc[:, -1].values   # Class labels (assumes last column is labels)\n",
    "\n",
    "y_encoded = y\n",
    "label_names = np.array([0, 1])"
   ]
  },
  {
   "cell_type": "code",
   "execution_count": 12,
   "id": "4a503daa-d070-4e81-9f86-6de219816a97",
   "metadata": {},
   "outputs": [],
   "source": [
    "# 🔹 Define Stratified CV\n",
    "n_samples = len(y_encoded)\n",
    "n_splits = 5 if n_samples >= 10 else n_samples\n",
    "cv = StratifiedKFold(n_splits=5, shuffle=True, random_state=0)"
   ]
  },
  {
   "cell_type": "code",
   "execution_count": 13,
   "id": "a3b7c07b-174e-4cf2-a305-ba1e45d3753a",
   "metadata": {},
   "outputs": [],
   "source": [
    "def styled_confusion_matrix(y_true, y_pred, labels):\n",
    "    cm = confusion_matrix(y_true, y_pred, labels=range(len(labels)))\n",
    "    cm_df = pd.DataFrame(cm, index=[f\"{label}_true\" for label in labels],\n",
    "                             columns=[f\"{label}_pred\" for label in labels])\n",
    "    cm_percent = cm.astype('float') / cm.sum(axis=1, keepdims=True)\n",
    "    cm_formatted = cm_df.copy()\n",
    "\n",
    "    for i in range(cm.shape[0]):\n",
    "        for j in range(cm.shape[1]):\n",
    "            count = cm[i, j]\n",
    "            percent = cm_percent[i, j]\n",
    "            cm_formatted.iloc[i, j] = f\"{count} ({percent:.0%})\"\n",
    "\n",
    "    cm_formatted['Total'] = cm_df.sum(axis=1)\n",
    "    totals_row = cm_df.sum(axis=0)\n",
    "    totals_row['Total'] = cm_df.values.sum()\n",
    "    cm_formatted.loc['Total'] = totals_row.astype(str)\n",
    "\n",
    "    return cm_formatted"
   ]
  },
  {
   "cell_type": "code",
   "execution_count": 14,
   "id": "08a82065-2d58-40d0-96b9-44aee66c3923",
   "metadata": {},
   "outputs": [],
   "source": [
    "# LDA\n",
    "lda_pipeline = make_pipeline(\n",
    "    StandardScaler(),\n",
    "    LDA(solver='lsqr', shrinkage='auto')\n",
    ")\n",
    "\n",
    "# XGBoost + GridSearchCV\n",
    "xgb_pipeline = make_pipeline(\n",
    "    StandardScaler(),\n",
    "    xgb.XGBClassifier(use_label_encoder=False, eval_metric='logloss', random_state=0)\n",
    ")\n",
    "xgb_params = {\n",
    "    'xgbclassifier__n_estimators': [50, 100],\n",
    "    'xgbclassifier__max_depth': [3, 4],\n",
    "    'xgbclassifier__learning_rate': [0.05, 0.1]\n",
    "}\n",
    "xgb_grid = GridSearchCV(xgb_pipeline, xgb_params, cv=cv, scoring='accuracy', n_jobs=-1)\n",
    "\n",
    "# Random Forest\n",
    "rf_pipeline = make_pipeline(\n",
    "    StandardScaler(),\n",
    "    RandomForestClassifier(n_estimators=100, max_depth=None, random_state=0)\n",
    ")\n",
    "\n",
    "# SVM + GridSearchCV\n",
    "svm_pipeline = make_pipeline(\n",
    "    StandardScaler(),\n",
    "    SVC(kernel='rbf', random_state=0)\n",
    ")\n",
    "svm_params = {\n",
    "    'svc__C': [0.1, 1.0, 10],\n",
    "    'svc__gamma': ['scale', 0.01, 0.001]\n",
    "}\n",
    "svm_grid = GridSearchCV(svm_pipeline, svm_params, cv=cv, scoring='accuracy', n_jobs=-1)"
   ]
  },
  {
   "cell_type": "code",
   "execution_count": 15,
   "id": "9ed9673e-92ac-4158-8680-df17aa7be3f5",
   "metadata": {},
   "outputs": [],
   "source": [
    "models = {\n",
    "    \"LDA\": lda_pipeline,\n",
    "    \"XGBoost\": xgb_grid,\n",
    "    \"RandomForest\": rf_pipeline,\n",
    "    \"SVM\": svm_grid\n",
    "}"
   ]
  },
  {
   "cell_type": "code",
   "execution_count": 16,
   "id": "720ff855-e6d4-435c-a888-c351bea0f4af",
   "metadata": {},
   "outputs": [
    {
     "name": "stdout",
     "output_type": "stream",
     "text": [
      "📊 Confusion Matrices (Stratified 5-Fold CV):\n",
      "\n",
      "\n",
      "🔹 LDA\n"
     ]
    },
    {
     "name": "stderr",
     "output_type": "stream",
     "text": [
      "C:\\Users\\Paolo\\AppData\\Local\\Temp\\ipykernel_1912\\3688133592.py:12: FutureWarning: Setting an item of incompatible dtype is deprecated and will raise an error in a future version of pandas. Value '95 (99%)' has dtype incompatible with int64, please explicitly cast to a compatible dtype first.\n",
      "  cm_formatted.iloc[i, j] = f\"{count} ({percent:.0%})\"\n",
      "C:\\Users\\Paolo\\AppData\\Local\\Temp\\ipykernel_1912\\3688133592.py:12: FutureWarning: Setting an item of incompatible dtype is deprecated and will raise an error in a future version of pandas. Value '1 (1%)' has dtype incompatible with int64, please explicitly cast to a compatible dtype first.\n",
      "  cm_formatted.iloc[i, j] = f\"{count} ({percent:.0%})\"\n"
     ]
    },
    {
     "name": "stdout",
     "output_type": "stream",
     "text": [
      "          0.0_pred   1.0_pred Total\n",
      "0.0_true  95 (99%)     1 (1%)    96\n",
      "1.0_true    2 (1%)  142 (99%)   144\n",
      "Total           97        143   240\n",
      "\n",
      "🔹 XGBoost\n"
     ]
    },
    {
     "name": "stderr",
     "output_type": "stream",
     "text": [
      "C:\\Users\\Paolo\\OneDrive\\Desktop\\Anaconda\\Lib\\site-packages\\xgboost\\training.py:183: UserWarning: [10:12:30] WARNING: C:\\actions-runner\\_work\\xgboost\\xgboost\\src\\learner.cc:738: \n",
      "Parameters: { \"use_label_encoder\" } are not used.\n",
      "\n",
      "  bst.update(dtrain, iteration=i, fobj=obj)\n",
      "C:\\Users\\Paolo\\OneDrive\\Desktop\\Anaconda\\Lib\\site-packages\\xgboost\\training.py:183: UserWarning: [10:12:30] WARNING: C:\\actions-runner\\_work\\xgboost\\xgboost\\src\\learner.cc:738: \n",
      "Parameters: { \"use_label_encoder\" } are not used.\n",
      "\n",
      "  bst.update(dtrain, iteration=i, fobj=obj)\n",
      "C:\\Users\\Paolo\\OneDrive\\Desktop\\Anaconda\\Lib\\site-packages\\xgboost\\training.py:183: UserWarning: [10:12:31] WARNING: C:\\actions-runner\\_work\\xgboost\\xgboost\\src\\learner.cc:738: \n",
      "Parameters: { \"use_label_encoder\" } are not used.\n",
      "\n",
      "  bst.update(dtrain, iteration=i, fobj=obj)\n",
      "C:\\Users\\Paolo\\OneDrive\\Desktop\\Anaconda\\Lib\\site-packages\\xgboost\\training.py:183: UserWarning: [10:12:32] WARNING: C:\\actions-runner\\_work\\xgboost\\xgboost\\src\\learner.cc:738: \n",
      "Parameters: { \"use_label_encoder\" } are not used.\n",
      "\n",
      "  bst.update(dtrain, iteration=i, fobj=obj)\n",
      "C:\\Users\\Paolo\\OneDrive\\Desktop\\Anaconda\\Lib\\site-packages\\xgboost\\training.py:183: UserWarning: [10:12:33] WARNING: C:\\actions-runner\\_work\\xgboost\\xgboost\\src\\learner.cc:738: \n",
      "Parameters: { \"use_label_encoder\" } are not used.\n",
      "\n",
      "  bst.update(dtrain, iteration=i, fobj=obj)\n",
      "C:\\Users\\Paolo\\AppData\\Local\\Temp\\ipykernel_1912\\3688133592.py:12: FutureWarning: Setting an item of incompatible dtype is deprecated and will raise an error in a future version of pandas. Value '93 (97%)' has dtype incompatible with int64, please explicitly cast to a compatible dtype first.\n",
      "  cm_formatted.iloc[i, j] = f\"{count} ({percent:.0%})\"\n",
      "C:\\Users\\Paolo\\AppData\\Local\\Temp\\ipykernel_1912\\3688133592.py:12: FutureWarning: Setting an item of incompatible dtype is deprecated and will raise an error in a future version of pandas. Value '3 (3%)' has dtype incompatible with int64, please explicitly cast to a compatible dtype first.\n",
      "  cm_formatted.iloc[i, j] = f\"{count} ({percent:.0%})\"\n"
     ]
    },
    {
     "name": "stdout",
     "output_type": "stream",
     "text": [
      "          0.0_pred   1.0_pred Total\n",
      "0.0_true  93 (97%)     3 (3%)    96\n",
      "1.0_true    2 (1%)  142 (99%)   144\n",
      "Total           95        145   240\n",
      "\n",
      "🔹 RandomForest\n"
     ]
    },
    {
     "name": "stderr",
     "output_type": "stream",
     "text": [
      "C:\\Users\\Paolo\\AppData\\Local\\Temp\\ipykernel_1912\\3688133592.py:12: FutureWarning: Setting an item of incompatible dtype is deprecated and will raise an error in a future version of pandas. Value '93 (97%)' has dtype incompatible with int64, please explicitly cast to a compatible dtype first.\n",
      "  cm_formatted.iloc[i, j] = f\"{count} ({percent:.0%})\"\n",
      "C:\\Users\\Paolo\\AppData\\Local\\Temp\\ipykernel_1912\\3688133592.py:12: FutureWarning: Setting an item of incompatible dtype is deprecated and will raise an error in a future version of pandas. Value '3 (3%)' has dtype incompatible with int64, please explicitly cast to a compatible dtype first.\n",
      "  cm_formatted.iloc[i, j] = f\"{count} ({percent:.0%})\"\n"
     ]
    },
    {
     "name": "stdout",
     "output_type": "stream",
     "text": [
      "          0.0_pred   1.0_pred Total\n",
      "0.0_true  93 (97%)     3 (3%)    96\n",
      "1.0_true    2 (1%)  142 (99%)   144\n",
      "Total           95        145   240\n",
      "\n",
      "🔹 SVM\n",
      "          0.0_pred   1.0_pred Total\n",
      "0.0_true  94 (98%)     2 (2%)    96\n",
      "1.0_true    3 (2%)  141 (98%)   144\n",
      "Total           97        143   240\n"
     ]
    },
    {
     "name": "stderr",
     "output_type": "stream",
     "text": [
      "C:\\Users\\Paolo\\AppData\\Local\\Temp\\ipykernel_1912\\3688133592.py:12: FutureWarning: Setting an item of incompatible dtype is deprecated and will raise an error in a future version of pandas. Value '94 (98%)' has dtype incompatible with int64, please explicitly cast to a compatible dtype first.\n",
      "  cm_formatted.iloc[i, j] = f\"{count} ({percent:.0%})\"\n",
      "C:\\Users\\Paolo\\AppData\\Local\\Temp\\ipykernel_1912\\3688133592.py:12: FutureWarning: Setting an item of incompatible dtype is deprecated and will raise an error in a future version of pandas. Value '2 (2%)' has dtype incompatible with int64, please explicitly cast to a compatible dtype first.\n",
      "  cm_formatted.iloc[i, j] = f\"{count} ({percent:.0%})\"\n"
     ]
    }
   ],
   "source": [
    "# Encode labels: if not already encoded\n",
    "label_names = sorted(set(y))  # or provide manually\n",
    "n_labels = len(label_names)\n",
    "\n",
    "print(\"📊 Confusion Matrices (Stratified 5-Fold CV):\\n\")\n",
    "\n",
    "for name, model in models.items():\n",
    "    print(f\"\\n🔹 {name}\")\n",
    "    y_pred = cross_val_predict(model, X, y_encoded, cv=cv)\n",
    "    cm = styled_confusion_matrix(y_encoded, y_pred, label_names)\n",
    "    print(cm)"
   ]
  },
  {
   "cell_type": "code",
   "execution_count": null,
   "id": "290cb7fd-a979-4a2c-9a55-b9872db56d56",
   "metadata": {},
   "outputs": [],
   "source": []
  }
 ],
 "metadata": {
  "kernelspec": {
   "display_name": "Python 3 (ipykernel)",
   "language": "python",
   "name": "python3"
  },
  "language_info": {
   "codemirror_mode": {
    "name": "ipython",
    "version": 3
   },
   "file_extension": ".py",
   "mimetype": "text/x-python",
   "name": "python",
   "nbconvert_exporter": "python",
   "pygments_lexer": "ipython3",
   "version": "3.12.7"
  }
 },
 "nbformat": 4,
 "nbformat_minor": 5
}
